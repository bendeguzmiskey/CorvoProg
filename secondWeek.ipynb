{
 "cells": [
  {
   "cell_type": "code",
   "execution_count": 35,
   "id": "fc5340ce-5694-4f78-bd0e-285d33852a4d",
   "metadata": {},
   "outputs": [
    {
     "name": "stdin",
     "output_type": "stream",
     "text": [
      "Kerek egy szot. sas\n"
     ]
    },
    {
     "name": "stdout",
     "output_type": "stream",
     "text": [
      "0\n",
      "sas\n",
      "Palindroma\n"
     ]
    },
    {
     "name": "stdin",
     "output_type": "stream",
     "text": [
      "Kerek egy mondatot a panagrammahoz. feri\n",
      "Kerek egy szamot! 15\n",
      "Kerek meg egy szamot! 12\n"
     ]
    },
    {
     "ename": "TypeError",
     "evalue": "not all arguments converted during string formatting",
     "output_type": "error",
     "traceback": [
      "\u001b[1;31m---------------------------------------------------------------------------\u001b[0m",
      "\u001b[1;31mTypeError\u001b[0m                                 Traceback (most recent call last)",
      "Cell \u001b[1;32mIn[35], line 74\u001b[0m\n\u001b[0;32m     72\u001b[0m szam1 \u001b[38;5;241m=\u001b[39m \u001b[38;5;28minput\u001b[39m(\u001b[38;5;124m'\u001b[39m\u001b[38;5;124mKerek egy szamot!\u001b[39m\u001b[38;5;124m'\u001b[39m)\n\u001b[0;32m     73\u001b[0m szam2 \u001b[38;5;241m=\u001b[39m \u001b[38;5;28minput\u001b[39m(\u001b[38;5;124m'\u001b[39m\u001b[38;5;124mKerek meg egy szamot!\u001b[39m\u001b[38;5;124m'\u001b[39m)\n\u001b[1;32m---> 74\u001b[0m \u001b[38;5;28mprint\u001b[39m(\u001b[43mlnko\u001b[49m\u001b[43m(\u001b[49m\u001b[43mszam1\u001b[49m\u001b[43m,\u001b[49m\u001b[43mszam2\u001b[49m\u001b[43m)\u001b[49m)\n",
      "Cell \u001b[1;32mIn[35], line 44\u001b[0m, in \u001b[0;36mlnko\u001b[1;34m(szam1, szam2)\u001b[0m\n\u001b[0;32m     42\u001b[0m     szam1 \u001b[38;5;241m=\u001b[39m szam2\n\u001b[0;32m     43\u001b[0m     szam2 \u001b[38;5;241m=\u001b[39m szam1\n\u001b[1;32m---> 44\u001b[0m maradek \u001b[38;5;241m=\u001b[39m \u001b[43mszam1\u001b[49m\u001b[38;5;241;43m%\u001b[39;49m\u001b[43mszam2\u001b[49m\n\u001b[0;32m     45\u001b[0m \u001b[38;5;28;01mif\u001b[39;00m maradek \u001b[38;5;241m==\u001b[39m \u001b[38;5;241m0\u001b[39m:\n\u001b[0;32m     46\u001b[0m     hiba \u001b[38;5;241m=\u001b[39m \u001b[38;5;124m'\u001b[39m\u001b[38;5;124maz egyik szam osztoja a masiknak\u001b[39m\u001b[38;5;124m'\u001b[39m\n",
      "\u001b[1;31mTypeError\u001b[0m: not all arguments converted during string formatting"
     ]
    }
   ],
   "source": [
    "def hany_nagybetu(string):\n",
    "    db = 0\n",
    "    for i in string:\n",
    "        i = str(i)\n",
    "        if i.isupper():\n",
    "            db+=1\n",
    "    return db\n",
    "\n",
    "def megfordit(string):\n",
    "    forditva = ''\n",
    "    index = len(string)\n",
    "    for j in range(len(string)):\n",
    "        forditva += string[index-1]\n",
    "        index-=1\n",
    "    return forditva\n",
    "    \n",
    "def palindroma_e(string):\n",
    "    if string.lower() == megfordit(string).lower():\n",
    "        return True\n",
    "    else:\n",
    "        return False  \n",
    "\n",
    "def panagramma(string):\n",
    "    abc  = ('a', 'á', 'b', 'c', 'd', 'e', 'é', 'f', 'g', 'h', 'i', 'í', 'j', 'k', 'l', 'm', 'n', 'o', 'ó', 'ö', 'ő', 'p', 'r', 's', 't', 'u', 'ú', 'ü', 'ű', 'v', 'y', 'z')\n",
    "    for i in abc:\n",
    "        if i not in string:\n",
    "            return False\n",
    "    return True \n",
    "\n",
    "def harmonikus(*szamok):\n",
    "    osszeg = 0\n",
    "    szorzat = 1\n",
    "    for szam in szamok:\n",
    "        osszeg += int(szam)\n",
    "        szorzat = szorzat * int(szam)\n",
    "    hossz = len(szamok)\n",
    "    return hossz*szorzat/osszeg\n",
    "\n",
    "def lnko(szam1, szam2):\n",
    "    szam1=int(szam1)\n",
    "    szam2=int(szam2)\n",
    "    if szam1 < szam2:\n",
    "        csere = szam1\n",
    "        szam1 = szam2\n",
    "        szam2 = szam1\n",
    "    maradek = szam1%szam2\n",
    "    if maradek == 0:\n",
    "        hiba = 'az egyik szam osztoja a masiknak'\n",
    "        return hiba\n",
    "    else:    \n",
    "        korabbi_maradek = 0\n",
    "        while maradek != 0:\n",
    "            szam1 = szam2\n",
    "            szam2 = maradek\n",
    "            maradek = szam1%szam2\n",
    "        return szam2\n",
    "            \n",
    "        \n",
    "    \n",
    "    \n",
    "string = input(\"Kerek egy szot.\")\n",
    "db= hany_nagybetu(string)\n",
    "print(db)\n",
    "print(megfordit(string))\n",
    "if palindroma_e(string):\n",
    "    print('Palindroma')\n",
    "    \n",
    "string = input(\"Kerek egy mondatot a panagrammahoz.\")\n",
    "if panagramma(string):\n",
    "    print('panagramma')\n",
    "#szam = input(\"Kerek szamokat a harmonikus kozephez szokozzel tagolva.\")\n",
    "#szamok= szam.split(',')\n",
    "#print(harmonikus(szam))\n",
    "szam1 = input('Kerek egy szamot!')\n",
    "szam2 = input('Kerek meg egy szamot!')\n",
    "print(lnko(szam1,szam2))\n"
   ]
  },
  {
   "cell_type": "code",
   "execution_count": null,
   "id": "e199d6f2-00df-4d9e-a10a-8b078e47fdaa",
   "metadata": {},
   "outputs": [],
   "source": []
  }
 ],
 "metadata": {
  "kernelspec": {
   "display_name": "Python 3 (ipykernel)",
   "language": "python",
   "name": "python3"
  },
  "language_info": {
   "codemirror_mode": {
    "name": "ipython",
    "version": 3
   },
   "file_extension": ".py",
   "mimetype": "text/x-python",
   "name": "python",
   "nbconvert_exporter": "python",
   "pygments_lexer": "ipython3",
   "version": "3.11.5"
  }
 },
 "nbformat": 4,
 "nbformat_minor": 5
}
