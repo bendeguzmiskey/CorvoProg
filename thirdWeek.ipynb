{
 "cells": [
  {
   "cell_type": "code",
   "execution_count": 9,
   "id": "669884c3-c96d-4cd3-b29a-1cd53d7f1949",
   "metadata": {},
   "outputs": [
    {
     "name": "stdout",
     "output_type": "stream",
     "text": [
      "[51, 72, 12, 81, 64, 32, 77, 52, 15, 25, 2, 47, 74, 78, 12, 64, 82, 91, 5, 60, 62, 64, 76, 13, 1, 94, 63, 54, 30, 1, 58, 81, 84, 85, 51, 83, 49, 11, 50, 32, 29, 56, 29, 87, 8, 85, 61, 61, 85, 6, 19, 72, 63, 56, 22, 30, 21, 54, 77, 79, 26, 93, 29, 84, 39, 31, 68, 71, 63, 47, 2, 5, 78, 92, 4, 89, 86, 4, 89, 36, 13, 14, 62, 75, 34, 70, 59, 73, 44, 40, 46, 24, 13, 82, 37, 12, 72, 66, 33, 9]\n",
      "100 SZÁM ALKALMAZÁS \n",
      "\n",
      " Válassza ki a kívánt funkciót: \n",
      " M-Szám módosítása\n",
      " K- Szám index keresése\n",
      " Q - Mentés és kilépés \n",
      "\n"
     ]
    },
    {
     "name": "stdin",
     "output_type": "stream",
     "text": [
      " q\n"
     ]
    },
    {
     "name": "stdout",
     "output_type": "stream",
     "text": [
      "['51', '72', '12', '81', '64', '32', '77', '52', '15', '25', '2', '47', '74', '78', '12', '64', '82', '91', '5', '60', '62', '64', '76', '13', '1', '94', '63', '54', '30', '1', '58', '81', '84', '85', '51', '83', '49', '11', '50', '32', '29', '56', '29', '87', '8', '85', '61', '61', '85', '6', '19', '72', '63', '56', '22', '30', '21', '54', '77', '79', '26', '93', '29', '84', '39', '31', '68', '71', '63', '47', '2', '5', '78', '92', '4', '89', '86', '4', '89', '36', '13', '14', '62', '75', '34', '70', '59', '73', '44', '40', '46', '24', '13', '82', '37', '12', '72', '66', '33', '9']\n"
     ]
    }
   ],
   "source": [
    "fnev = \"szamok.txt\"\n",
    "\n",
    "def beolvas(fnev):\n",
    "    f = open(fnev, \"r\")\n",
    "    sorok = f.readlines()\n",
    "    lista = []\n",
    "    for s in sorok:\n",
    "        lista.append(s)\n",
    "    f.close()\n",
    "    vegleges_lista = []\n",
    "    for s in lista:\n",
    "        s = s.strip()\n",
    "        vegleges_lista.append(int(s))\n",
    "    return vegleges_lista\n",
    "\n",
    "def ment(fnev, qnev):\n",
    "    str_list = []\n",
    "    for s in fnev:\n",
    "        str_list.append(str(s))\n",
    "    print(str_list)\n",
    "    output = \"\\n\".join(str_list)\n",
    "    with open(qnev, \"w\") as f:\n",
    "        f.write(output)\n",
    "\n",
    "def keres\n",
    "\n",
    "numbers = beolvas(fnev)\n",
    "print(numbers)\n",
    "\n",
    "feltetel = True\n",
    "while feltetel:\n",
    "    print('100 SZÁM ALKALMAZÁS \\n\\n Válassza ki a kívánt funkciót: \\n M-Szám módosítása\\n K- Szám index keresése\\n Q - Mentés és kilépés \\n')\n",
    "    betu = input('')\n",
    "\n",
    "    if betu.upper()== 'Q':\n",
    "        ment(numbers,\"mentes.txt\")\n",
    "    \n",
    "    feltetel = betu.upper() != 'Q'\n",
    "    "
   ]
  },
  {
   "cell_type": "code",
   "execution_count": null,
   "id": "dfd262bb-ef14-4776-b676-e616fbc110d3",
   "metadata": {},
   "outputs": [],
   "source": []
  }
 ],
 "metadata": {
  "kernelspec": {
   "display_name": "Python 3 (ipykernel)",
   "language": "python",
   "name": "python3"
  },
  "language_info": {
   "codemirror_mode": {
    "name": "ipython",
    "version": 3
   },
   "file_extension": ".py",
   "mimetype": "text/x-python",
   "name": "python",
   "nbconvert_exporter": "python",
   "pygments_lexer": "ipython3",
   "version": "3.11.5"
  }
 },
 "nbformat": 4,
 "nbformat_minor": 5
}
