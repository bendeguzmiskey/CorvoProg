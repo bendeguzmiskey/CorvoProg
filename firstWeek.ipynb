{
 "cells": [
  {
   "cell_type": "code",
   "execution_count": 60,
   "id": "5079087e-ec82-4b05-8091-a56a8e0ecdf3",
   "metadata": {},
   "outputs": [
    {
     "name": "stdout",
     "output_type": "stream",
     "text": [
      "Olimpiai helyezesek\n",
      "[1896, 1900, 1904, 1908, 1912, 1920, 1924, 1928, 1932, 1936, 1948, 1952, 1956, 1960, 1964, 1968, 1972, 1976, 1980, 1984, 1988, 1992, 1996, 2000, 2004, 2008, 2012, 2016, 2020]\n",
      "[1896, 1900, 1904, 1908, 1912, 1920, 1924, 1928, 1932, 1936, 1948, 1952, 1956, 1960, 1964, 1968, 1972, 1976, 1980, 1984, 1988, 1992, 1996, 2000, 2004, 2008, 2012, 2016, 2020]\n"
     ]
    },
    {
     "name": "stdin",
     "output_type": "stream",
     "text": [
      "Kerek egy evet! 1900\n"
     ]
    },
    {
     "name": "stdout",
     "output_type": "stream",
     "text": [
      "['Greece', 'France', 'United States', 'Great Britain', 'Sweden', 'Belgium', 'Netherlands', 'Germany', 'Finland', 'Australia/Sweden', 'Italy', 'Japan', 'Mexico', 'West Germany', 'Canada', 'Soviet Union', 'South Korea', 'Spain', 'Australia', 'China', 'Brazil']\n"
     ]
    }
   ],
   "source": [
    "#1.Feladat\n",
    "print('Olimpiai helyezesek')\n",
    "#2.Feladat\n",
    "f = open(\"Summer_olympic_Medals.csv\")\n",
    "sorok = f.readlines()\n",
    "list=[]\n",
    "for s in sorok:\n",
    "    s = s.strip()\n",
    "    list.append(s)\n",
    "f.close()\n",
    "#3.Feladat\n",
    "del list[0]\n",
    "#4.Feladat\n",
    "final_list=[]\n",
    "evek=[]\n",
    "for lines in list:\n",
    "    sor=lines.split(\",\")\n",
    "    #print(sor)\n",
    "    if int(sor[0]) not in evek:\n",
    "        evek.append(int(sor[0]))\n",
    "    final_list.append(sor)\n",
    "#5.Feladat\n",
    "print(evek)\n",
    "#6.Feladat\n",
    "evek.sort()\n",
    "print(evek)\n",
    "#7.Feladat\n",
    "uzenet=input(\"Kerek egy evet!\")\n",
    "#8.Feladat\n",
    "if uzenet.isnumeric():\n",
    "    uzenet=int(uzenet)\n",
    "else:\n",
    "    print(\"Hibas formatum, nem szam!\")\n",
    "    uzenet=input(\"Kerek egy evet!\")\n",
    "    uzenet=int(uzenet)\n",
    "#9.Feladat\n",
    "while int(uzenet) not in evek:\n",
    "    uzenet=input('Hibas ev. Az evek parancs lekerdezesevel megkaphatja az osszes evet.')\n",
    "    if uzenet=='evek':\n",
    "        print(evek)\n",
    "        uzenet=input(\"Kerek egy evet!\")\n",
    "    else:\n",
    "        uzenet=input(\"Kerek egy evet!\")\n",
    "#11.Feladat\n",
    "orszagok=[]\n",
    "i=0\n",
    "for lines in final_list:\n",
    "    if final_list[i][1] not in orszagok:\n",
    "        orszagok.append(final_list[i][1])\n",
    "    i+=1\n",
    "orszagok.sort()\n",
    "print(orszagok)\n",
    "\n",
    "\n"
   ]
  },
  {
   "cell_type": "markdown",
   "id": "08631f4a-2877-4952-9155-5a72cf48cf5c",
   "metadata": {},
   "source": [
    "## "
   ]
  },
  {
   "cell_type": "code",
   "execution_count": null,
   "id": "0c1a77fa-20e9-46f6-beb1-125a3850021c",
   "metadata": {},
   "outputs": [],
   "source": []
  },
  {
   "cell_type": "code",
   "execution_count": null,
   "id": "9d542e9c-871f-463c-8bda-eba906da15c3",
   "metadata": {},
   "outputs": [],
   "source": []
  },
  {
   "cell_type": "code",
   "execution_count": null,
   "id": "563a5d2c-5bec-412b-a91a-4012b5b7bc0a",
   "metadata": {},
   "outputs": [],
   "source": []
  },
  {
   "cell_type": "code",
   "execution_count": null,
   "id": "4a4758aa-a027-43d8-b2a6-077765c6ec38",
   "metadata": {},
   "outputs": [],
   "source": []
  }
 ],
 "metadata": {
  "kernelspec": {
   "display_name": "Python 3 (ipykernel)",
   "language": "python",
   "name": "python3"
  },
  "language_info": {
   "codemirror_mode": {
    "name": "ipython",
    "version": 3
   },
   "file_extension": ".py",
   "mimetype": "text/x-python",
   "name": "python",
   "nbconvert_exporter": "python",
   "pygments_lexer": "ipython3",
   "version": "3.11.5"
  }
 },
 "nbformat": 4,
 "nbformat_minor": 5
}
